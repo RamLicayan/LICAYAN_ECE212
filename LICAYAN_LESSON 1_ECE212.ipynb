{
 "cells": [
  {
   "cell_type": "markdown",
   "metadata": {},
   "source": [
    "# Lesson 1: Introduction to Python"
   ]
  },
  {
   "cell_type": "markdown",
   "metadata": {},
   "source": [
    "## Introduction\n",
    "\n",
    "The goal of this coursepack is to teach you to understand and create computer programs in Python. At the beginning of each chapter, we will outline for you the learning goals and objectives that should be accomplished once you have gone through the chapter.\n",
    "\n",
    "Understanding computer programs requires algorithmic, mechanistic thinking. Programs specify mechanistic sequences of actions to perform; when executed, they transform input data into output data.\n",
    "\n",
    "Writing computer programs requires not only mechanistic thinking but creative problem solving. Problem solving means the ability to formulate problems, think creatively about solutions, and express a solution clearly and accurately."
   ]
  },
  {
   "cell_type": "markdown",
   "metadata": {},
   "source": [
    "## Activity\n",
    "1. Why do you think understanding computer programs is relevant in our time today especially in the new normal?\n",
    "    \n",
    "    *Understanding computer programs is relevant in our time today since we are now living in an era where technologies are geared towards automation and digitalization.An example of this is the way we learn in this time of the pandemic.We are now learning through online modalities, if you have no knowledge in the usage of computer programs, it would be a big disadvantage in your part since most of the activities are done online.\n",
    "    \n",
    "    \n",
    "2. If you were able to learn computer program, what program will you code? Why? \n",
    "    \n",
    "    *I would code a program that would serve as an all around engineering calculator because based on experience as an engineering student there is no single app or program that can automatically solve an engineering problem and show its solutions, it's either you need to download a lot of programs that takes up a lot of space on your devices. In order to know the steps of solving an engineering problem you need to search the whole internet just to find a simillar problem with a paid solution. As a student, I don't have enough budget to subscribe on a premium version of Chegg so creating an all around engineering calculator would really make a change and make learning more efficient.\n",
    "    \n",
    "    \n",
    "3. What would be your pirmary motivation in learning programming?\n",
    "    \n",
    "    *My primary motivation in learning programming is my interest in IoT or Internet of Things.I am very fascinated by the idea of IoT and having deep understanding in programming is a must in this field. I can see that IoT is the thing of the future and it is the key in improving our quality of life.The most notable example of IoT is the Smart Home where IoT devices are a part of the larger concept of home automation, which can include lighting, heating and air conditioning, media and security systems and camera systems.Its long-term benefits could include energy savings by automatically ensuring lights and electronics are turned off. Through IoT, we can live a life like Tony Stark in our own smart homes.\n",
    "    \n",
    " "
   ]
  },
  {
   "cell_type": "markdown",
   "metadata": {},
   "source": [
    "## Application\n",
    "\n",
    "1. Why do you think Python is the most applicable programming language for scientific computing?\n",
    "\n",
    "   *Python is commonly used in scientific computing due to various reasons, one of this is that Python is a relatively easy to write compared to other programming languages.Also due to Python's readablity, it would save time and avoid confusion in the syntax itself.Python is also open-source and has a large community of experts that can help you in your programming especially if there is something that you want to achieve with your code.Due to its constantly growing community, the libraries are also being continually developed which makes coding more efficient and fast.Python is frequently used in high-performance scientific applications due to the high performance nature of this programming language. Some of the common libraries used are: SciPy,NumPy and Matplotlib.SciPy is a Python library that utilizes NumPy arrays as the core data structure, and comes with various modules that are useful for widely used tasks in scientific computing, which includes algebra, integral calculus, differential equations, and signal processing.Speaking of NumPy, it is a part of the SciPy project that is released as a separate library so that those people who only need the basic requirements can use NumPy without installing the whole SciPy library.Last is the Matplotlib which is a versatile plotting library for making dynamic 2D and 3D plots which can also be stored as handwriting info. The API resembles in several respects that of MATLAB, easing the transition of MATLAB users to Python. A variety of instances, along with the source code to replicate them, are available in the matplotlib gallery. This really proves the accessibility of Python, thus making it suitable for scientific computing.\n",
    "\n",
    "\n",
    "2. If Python can build anything, where do you think Python is not applicable for? \n",
    "\n",
    "    *Although Python is suitable for scientific computing, there are also some disadvantages.One of this is the fact that the Python code is executed line by line.This means Python has a slow execution speed and if your project requires fast execution speeds, then Python isn't applicable for your project.\n",
    "  \n",
    "    "
   ]
  },
  {
   "cell_type": "markdown",
   "metadata": {},
   "source": [
    "## Exercises"
   ]
  },
  {
   "cell_type": "markdown",
   "metadata": {},
   "source": [
    "### Mailing Address (Solved, 9 Lines)\n",
    "\n",
    "1. Create a program that displays your name and complete mailing addresss. The address should be printed in the format that is normally used in the area where you live. You program does not need to ready any input from the user."
   ]
  },
  {
   "cell_type": "markdown",
   "metadata": {},
   "source": [
    "#### In Python, print statement is used to output text."
   ]
  },
  {
   "cell_type": "code",
   "execution_count": 2,
   "metadata": {},
   "outputs": [
    {
     "name": "stdout",
     "output_type": "stream",
     "text": [
      "Full Name: Ram Owen Savier Jabonero Licayan\n",
      "Complete Mailing Address:\n",
      "Street Name:Purok 6\n",
      "Barangay Name: Upper Glad 1\n",
      "City/Municipality: Midsayap\n",
      "Postal Code: 9410\n",
      "Province: North Cotabato\n",
      "Country: Philippines\n"
     ]
    }
   ],
   "source": [
    "print(\"Full Name: Ram Owen Savier Jabonero Licayan\")\n",
    "print(\"Complete Mailing Address:\")\n",
    "print(\"Street Name:Purok 6\")\n",
    "print(\"Barangay Name: Upper Glad 1\")\n",
    "print(\"City/Municipality: Midsayap\")\n",
    "print(\"Postal Code: 9410\")\n",
    "print(\"Province: North Cotabato\")\n",
    "print(\"Country: Philippines\")"
   ]
  },
  {
   "cell_type": "markdown",
   "metadata": {},
   "source": [
    "### Area of a Room (Solved, 13 lines)\n",
    "\n",
    "2. Write a program that asks the user to enter the width and length of a room. Once these values have been read, your program should compute and display the area of the room. The length and the width will be entered as floating-point numbers. Include units in your prompt and output message; either feet or meters, depending on which unit you are more comfortable working with."
   ]
  },
  {
   "cell_type": "markdown",
   "metadata": {},
   "source": [
    "#### Float (floating point real values) − Also called floats represent real numbers and are written with a decimal point dividing the integer and fractional parts."
   ]
  },
  {
   "cell_type": "code",
   "execution_count": 10,
   "metadata": {},
   "outputs": [
    {
     "name": "stdout",
     "output_type": "stream",
     "text": [
      "Enter the length of the room in meters (m): 15\n",
      "Enter the width of the room in meters (m): 14\n",
      "The area of the room is, 210.0 square meters (m^2).\n"
     ]
    }
   ],
   "source": [
    "#This program reads the user's input (length and width) then computes and display its area in square meters (m^2)\n",
    "l = float(input(\"Enter the length of the room in meters (m): \"))\n",
    "w = float(input(\"Enter the width of the room in meters (m): \"))\n",
    "\n",
    "area = l * w\n",
    "\n",
    "print(\"The area of the room is,\",area, \"square meters (m^2).\")"
   ]
  },
  {
   "cell_type": "markdown",
   "metadata": {},
   "source": [
    "### Arithmetic (Solved, 22 Lines)\n",
    "\n",
    "3. Create a program that reads two integers, a and b, from the user. Your program should compute and display:\n",
    "    \n",
    "        The sum of a and b\n",
    "        The difference when b is subratected from a\n",
    "        The product of a and b\n",
    "        The quotient when a is divided by b\n",
    "        The remainder when a is divided by b\n",
    "        The result of log10 a\n",
    "        The result of ab"
   ]
  },
  {
   "cell_type": "markdown",
   "metadata": {},
   "source": [
    "#### In order to use logarithms, we need to import the math module in Python."
   ]
  },
  {
   "cell_type": "code",
   "execution_count": 1,
   "metadata": {},
   "outputs": [
    {
     "name": "stdout",
     "output_type": "stream",
     "text": [
      "Input two numbers:\n",
      "Enter an integer(a):15\n",
      "Enter another integer(b):25\n",
      "The sum of a and b is 40.0\n",
      "The difference when b is subratected from a is 10.0\n",
      "The product of a and b is 375.0\n",
      "The quotient when a is divided by b is 0.6\n",
      "The remainder when a is divided by b is 15.0\n",
      "The result of log10 a is 1.1760912590556811\n",
      "The result of ab is 375.0\n"
     ]
    }
   ],
   "source": [
    "# This program performs arithmetic operations on the user's input (a & b)\n",
    "import math\n",
    "print(\"Input two numbers:\")\n",
    "a = float(input(\"Enter an integer(a):\"))\n",
    "b = float(input(\"Enter another integer(b):\"))\n",
    "sum = a + b\n",
    "difference = b - a\n",
    "product = a * b\n",
    "quotient = a / b\n",
    "remainder = a % b\n",
    "log_10 = math.log(a,10)\n",
    "ab = a * b\n",
    "print(\"The sum of a and b is\",sum)\n",
    "print(\"The difference when b is subratected from a is\",difference)\n",
    "print(\"The product of a and b is\",product)\n",
    "print(\"The quotient when a is divided by b is\",quotient)\n",
    "print(\"The remainder when a is divided by b is\",remainder)\n",
    "print(\"The result of log10 a is\",log_10)\n",
    "print(\"The result of ab is\",ab)"
   ]
  },
  {
   "cell_type": "markdown",
   "metadata": {},
   "source": [
    "### Area and Volume (15 Lines)\n",
    "\n",
    "4. Write a program that begins by reading a radius, r, from the user. The program will continue by computing and displaying the area of a circle with radius r and the volume of a sphere with radius r. Use the pi constant in the math module in your calculations."
   ]
  },
  {
   "cell_type": "markdown",
   "metadata": {},
   "source": [
    "#### The ** operator in Python is used to raise the number on the left to the power of the exponent of the right."
   ]
  },
  {
   "cell_type": "code",
   "execution_count": 17,
   "metadata": {},
   "outputs": [
    {
     "name": "stdout",
     "output_type": "stream",
     "text": [
      "Enter the radius: 15\n",
      "The area of a circle is: 706.8583470577034 .\n",
      "The volume of a sphere is: 14137.166941154068 .\n"
     ]
    }
   ],
   "source": [
    "#This program will display the area of a circle and the volume of a sphere using the radius r.\n",
    "\n",
    "import math\n",
    "r = float(input(\"Enter the radius: \"))\n",
    "\n",
    "area = math.pi * (r**2)\n",
    "volume = (4/3) * math.pi * (r**3)\n",
    "\n",
    "print(\"The area of a circle is:\",area,\".\")\n",
    "print(\"The volume of a sphere is:\",volume,\".\")"
   ]
  }
 ],
 "metadata": {
  "kernelspec": {
   "display_name": "Python 3",
   "language": "python",
   "name": "python3"
  },
  "language_info": {
   "codemirror_mode": {
    "name": "ipython",
    "version": 3
   },
   "file_extension": ".py",
   "mimetype": "text/x-python",
   "name": "python",
   "nbconvert_exporter": "python",
   "pygments_lexer": "ipython3",
   "version": "3.8.5"
  }
 },
 "nbformat": 4,
 "nbformat_minor": 2
}
