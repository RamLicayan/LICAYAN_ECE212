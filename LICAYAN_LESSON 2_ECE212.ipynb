{
 "cells": [
  {
   "cell_type": "markdown",
   "metadata": {},
   "source": [
    "# Lesson 2: Simple Python Data"
   ]
  },
  {
   "cell_type": "markdown",
   "metadata": {},
   "source": [
    "## Introduction\n",
    "\n",
    "This chapter introduces several basic building blocks of Python programs:\n",
    "\n",
    "• literals, like numbers and character strings\n",
    "\n",
    "• operators, like + and *\n",
    "\n",
    "• function calls, which take values as inputs and compute new values\n",
    "\n",
    "• variables, which save values so they can be used later in the program\n",
    "\n",
    "These are the basic building blocks that are assembled to create programs that you\n",
    "interact with everyday—from the software running on your smartwatch, to the\n",
    "infrastructure behind the largest websites, and every app running on your phone."
   ]
  },
  {
   "cell_type": "markdown",
   "metadata": {},
   "source": [
    "## Activity\n",
    "\n",
    "1. An algorithm is:\n",
    "\n",
    "    A. A step by step sequence of instructions that if followed exactly will solve the problem under consideration.\n",
    "    \n",
    "\n",
    "2. Source code is another name for:\n",
    "\n",
    "    A. the instructions in a program, written in a high-level language.\n",
    "    \n",
    "\n",
    "3. What is the difference between a high-level programming language and a lowlevel programming language?\n",
    "\n",
    "    C. It is high-level if the program must be processed before it can run, and lowlevel if the computer can execute it without\n",
    "    additional processing.\n",
    "\n",
    "\n",
    "4. Pick the best replacements for 1 and 2 in the following sentence: When comparing compilers and interpreters, a compiler is like 1 while an interpreter is like 2.\n",
    "\n",
    "    B. 1 = translating an entire book, 2 = translating a line at a time\n",
    "    \n",
    "\n",
    "5. The activecode interpreter allows you to (select all that apply):\n",
    "\n",
    "    A. save programs and reload saved programs.\n",
    "    \n",
    "    B. type in Python source code.\n",
    "    \n",
    "    C. execute Python code right in the text itself within the web browser\n",
    "    \n",
    "    \n",
    "\n",
    "6. Codelens allows you to (select all that apply):\n",
    "\n",
    "    B. control the step by step execution of a program.\n",
    "    D. execute the Python code that is in codelens.\n",
    "\n",
    "\n",
    "7. A program is:\n",
    "\n",
    "    A. a sequence of instructions that specifies how to perform a computation.\n",
    "\n",
    "\n",
    "8. The differences between natural and formal languages include:\n",
    "\n",
    "    B. ambiguity, redundancy, and literalness.\n",
    "\n",
    "\n",
    "9. True or False: Reading a program is like reading other kinds of text.\n",
    "\n",
    "    B. False\n",
    "\n",
    "\n",
    "10. The print function:\n",
    "\n",
    "    B. displays a value on the screen"
   ]
  },
  {
   "cell_type": "markdown",
   "metadata": {},
   "source": [
    "## Application"
   ]
  },
  {
   "cell_type": "markdown",
   "metadata": {},
   "source": [
    "### Distance Between Two Points on Earth (27 Lines)\n",
    "The surface of the Earth is curved, and the distance between degrees of longitude\n",
    "varies with latitude. As a result, finding the distance between two points on the\n",
    "surface of the Earth is more complicated than simply using the Pythagorean theorem.\n",
    "Let (t1, g1) and (t2, g2) be the latitude and longitude of two points on the Earth’s\n",
    "surface. The distance between these points, following the surface of the Earth, in\n",
    "kilometers is:\n",
    "\n",
    "distance = 6371.01\n",
    "× arccos(sin(𝑡1) × sin(𝑡2) + cos(𝑡1) × cos(𝑡2) × cos(𝑔1 − 𝑔2))"
   ]
  },
  {
   "cell_type": "code",
   "execution_count": 10,
   "metadata": {},
   "outputs": [
    {
     "name": "stdout",
     "output_type": "stream",
     "text": [
      "Please enter the latitude of the first point : 7.1336\n",
      "Please enter the longitude of the first point: 124.5307\n",
      "Please enter the latitude of the second point: 7.0862\n",
      "Please enter the longitude of the second point:125.6156\n",
      "The distance between the two points is 119.82389022522179 km\n"
     ]
    }
   ],
   "source": [
    "import math\n",
    "pi = math.pi\n",
    "latitude1 = float(input('Please enter the latitude of the first point : '))\n",
    "longitude1 = float(input('Please enter the longitude of the first point: '))\n",
    "latitude2 = float(input('Please enter the latitude of the second point: '))\n",
    "longitude2 = float(input('Please enter the longitude of the second point:'))\n",
    "t1 = latitude1*(pi/180)\n",
    "g1 = longitude1*(pi/180)\n",
    "t2 = latitude2*(pi/180)\n",
    "g2 = longitude2*(pi/180)\n",
    "r = 6371.01\n",
    "g = g1-g2\n",
    "d = r*(math.acos(((math.sin(t1))*(math.sin(t2)))+((math.cos(t1))*(math.cos(t2))*(math.cos(g)))))\n",
    "print('The distance between the two points is', d, 'km')"
   ]
  },
  {
   "cell_type": "markdown",
   "metadata": {},
   "source": [
    "### Based on Google Maps, Midsayap is located at (7.1336° N, 124.5307° E) while the University of Southeastern Philippines is located at (7.0862° N, 125.6156° E) and the distance between those points is approximately 119.828116 km (straight path)."
   ]
  },
  {
   "cell_type": "code",
   "execution_count": null,
   "metadata": {},
   "outputs": [],
   "source": []
  }
 ],
 "metadata": {
  "kernelspec": {
   "display_name": "Python 3",
   "language": "python",
   "name": "python3"
  },
  "language_info": {
   "codemirror_mode": {
    "name": "ipython",
    "version": 3
   },
   "file_extension": ".py",
   "mimetype": "text/x-python",
   "name": "python",
   "nbconvert_exporter": "python",
   "pygments_lexer": "ipython3",
   "version": "3.8.5"
  }
 },
 "nbformat": 4,
 "nbformat_minor": 4
}
